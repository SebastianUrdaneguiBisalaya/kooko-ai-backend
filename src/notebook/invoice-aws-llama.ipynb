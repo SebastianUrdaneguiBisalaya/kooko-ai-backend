{
 "cells": [
  {
   "cell_type": "markdown",
   "id": "20cb9c5f",
   "metadata": {},
   "source": [
    "### **Optical Character Recognition (OCR) using AWS Textract**"
   ]
  },
  {
   "cell_type": "code",
   "execution_count": 1,
   "id": "75a87377",
   "metadata": {},
   "outputs": [],
   "source": [
    "import pathlib\n",
    "import json\n",
    "import pandas as pd\n",
    "import numpy as np\n",
    "import matplotlib.pyplot as plt\n",
    "import seaborn as sns\n",
    "import boto3\n",
    "from groq import Groq\n",
    "import warnings\n",
    "import os\n",
    "from PIL import Image\n",
    "from IPython.display import display\n",
    "from dotenv import load_dotenv\n",
    "warnings.filterwarnings(\"ignore\")"
   ]
  },
  {
   "cell_type": "code",
   "execution_count": 56,
   "id": "0b7a92ea",
   "metadata": {},
   "outputs": [],
   "source": [
    "dotenv_path = pathlib.Path().resolve().parents[1] / \".env\"\n",
    "load_dotenv(dotenv_path=dotenv_path)\n",
    "aws_access_key_id = os.getenv(\"AWS_ACCESS_KEY_ID\")\n",
    "aws_secret_access_key = os.getenv(\"AWS_SECRET_ACCESS_KEY\")\n",
    "groq_api_key = os.getenv(\"GROQ_API_KEY\")"
   ]
  },
  {
   "cell_type": "code",
   "execution_count": 82,
   "id": "0241051e",
   "metadata": {},
   "outputs": [],
   "source": [
    "def create_client_groq():\n",
    "  client = Groq(\n",
    "\t\tapi_key=groq_api_key)\n",
    "  return client\n",
    "\n",
    "def generate_groq_query(query: str):\n",
    "  client = create_client_groq()\n",
    "  chat_completion = client.chat.completions.create(\n",
    "\t\tmodel=\"llama3-8b-8192\",\n",
    "\t\tmessages=[\n",
    "\t\t\t{\n",
    "\t\t\t\t\"role\": \"system\",\n",
    "\t\t\t\t\"content\": (\n",
    "                    f\"You are a professional accountant and financier.\"\n",
    "                    f\"I passed you an array of strings where the array contains the invoices data.\"\n",
    "                    f\"You need to extract the information from the invoice array of strings and return a JSON object with the following keys:\"\n",
    "                    f\"Número de la boletay/o factura, RUC o identificación del vendedor, Nombre del vendedor., productos\"\n",
    "                    f\"The products keys is an array with 'product_name' and its 'price.\"\n",
    "                    f\"Only return the JSON object, do not return anything else.\"\n",
    "                    f\"Do not add any other text.\"\n",
    "                    f\"You must recognize the title of each item in the invoice and connect with similar items in the array of strings.\"\n",
    "                    f\"The JSON object must be in Spanish language.\"\n",
    "                    f\"If a product name is split into multiple lines, you must merge them before extracting its price. Usually, the price appears at the end, so assume previous lines are part of the same item.\"\n",
    "                )\n",
    "\t\t\t},\n",
    "\t\t\t{\n",
    "\t\t\t\t\"role\": \"user\",\n",
    "\t\t\t\t\"content\": f\"{query}\"\n",
    "\t\t\t}\n",
    "\t\t]\n",
    "\t)\n",
    "  return json.loads(chat_completion.choices[0].message.content)"
   ]
  },
  {
   "cell_type": "code",
   "execution_count": 21,
   "id": "264b23d5",
   "metadata": {},
   "outputs": [],
   "source": [
    "def create_session_and_client():\n",
    "  session = boto3.Session(\n",
    "\t\tregion_name=\"us-east-1\",\n",
    "\t\taws_access_key_id=aws_access_key_id,\n",
    "\t\taws_secret_access_key=aws_secret_access_key,\n",
    "\t)\n",
    "  client = session.client(\n",
    "    \"textract\", \n",
    "    region_name=\"us-east-1\"\n",
    "  )\n",
    "  return client"
   ]
  },
  {
   "cell_type": "code",
   "execution_count": 22,
   "id": "903bb8ab",
   "metadata": {},
   "outputs": [],
   "source": [
    "def process_file(file_path):\n",
    "  client = create_session_and_client()\n",
    "  with open(file_path, \"rb\") as document:\n",
    "    image_bytes = document.read()\n",
    "  response = client.detect_document_text(\n",
    "    Document={\n",
    "\t\t\t'Bytes': image_bytes,\n",
    "\t\t}\n",
    "  )\n",
    "  return response\n",
    "  "
   ]
  },
  {
   "cell_type": "code",
   "execution_count": 81,
   "id": "8abdf282",
   "metadata": {},
   "outputs": [],
   "source": [
    "img = Image.open(r\"../files/invoice.jpeg\")\n",
    "# display(img)"
   ]
  },
  {
   "cell_type": "code",
   "execution_count": 24,
   "id": "4276e3d2",
   "metadata": {},
   "outputs": [],
   "source": [
    "result = process_file(r\"../files/invoice.jpeg\")"
   ]
  },
  {
   "cell_type": "code",
   "execution_count": 86,
   "id": "8ea69dd1",
   "metadata": {},
   "outputs": [],
   "source": [
    "data = []\n",
    "for block in result[\"Blocks\"]:\n",
    "    if block[\"BlockType\"] == \"LINE\":\n",
    "        data.append(block[\"Text\"])"
   ]
  },
  {
   "cell_type": "code",
   "execution_count": 87,
   "id": "ab8394c4",
   "metadata": {},
   "outputs": [
    {
     "data": {
      "text/plain": [
       "['ZHONG YUSHU',\n",
       " 'R.U.C. 15262071429',\n",
       " 'TEL: 0',\n",
       " 'Av. Los Quechuas 1013',\n",
       " 'CHIFA',\n",
       " '- ATE - UMA - LIMA',\n",
       " 'LONG FUNG with',\n",
       " 'Casa Matriz',\n",
       " 'FACTURA ELECTRÓNICA',\n",
       " 'F003 N° 00002016',\n",
       " 'FECHA EMISIÓN : 13/04/2025 19:53:01',\n",
       " 'RUC',\n",
       " ':',\n",
       " '20516122723',\n",
       " 'RAZÓN SOCIAL',\n",
       " ':',\n",
       " 'GEOURBI SOCIEDAD COMERCIAL',\n",
       " 'DE RESPONSABILIDAD LIMITADA',\n",
       " 'DIRECCIÓN',\n",
       " ': CAL. EFESTOS NRO.497 - ATE -',\n",
       " 'LIMA - LIMA',\n",
       " 'T. MONEDA',\n",
       " ': SOLES',\n",
       " 'FORMA PAGO',\n",
       " ': Contado',\n",
       " 'FECHA PAGO',\n",
       " ': 13/04/2025',\n",
       " 'CANT. U.M.',\n",
       " 'DESCRIP',\n",
       " 'P.U. IMPORTE',\n",
       " 'Menu 4 Combinado Poll',\n",
       " '1.00 UNIDA',\n",
       " '18.00',\n",
       " '18.00',\n",
       " 'o',\n",
       " 'Menu 15 Chancho c/ T',\n",
       " '1.00',\n",
       " 'UNIDA',\n",
       " '20.00',\n",
       " '20.00',\n",
       " 'amarindo',\n",
       " '1.00',\n",
       " 'UNIDA Gaseosa 1 It',\n",
       " '7.00',\n",
       " '7.00',\n",
       " 'OP. GRAVADA',\n",
       " 'S/',\n",
       " '40.91',\n",
       " 'OP. INAFECTA',\n",
       " 'S/ 0.00',\n",
       " 'OP. EXONERADA',\n",
       " 'S/ 0.00',\n",
       " 'OP. EXPORTACIÓN',\n",
       " 'S/ 0.00',\n",
       " 'OP. GRATUITA',\n",
       " 'S/ 0.00',\n",
       " 'TOT. DSCTO',\n",
       " 'S/ 0.00',\n",
       " 'I.S.C.',\n",
       " 'S/ 0.00',\n",
       " 'I.G.V. 10%',\n",
       " 'S/ 4.09',\n",
       " 'OTROS CARGOS',\n",
       " 'S/ 0.00',\n",
       " 'OTROS TRIBUTOS',\n",
       " 'S/ 0.00',\n",
       " 'IMPORTE TOTAL',\n",
       " 'S/',\n",
       " '45.00',\n",
       " 'SON :',\n",
       " 'CUARENTA Y CINCO Y 00/100 SOLES',\n",
       " 'Gracias por su compra',\n",
       " 'Representación impresa de la Factura Electrónica',\n",
       " 'Autorizado mediante resolución N°',\n",
       " '0340050005820/SUNAT',\n",
       " 'Consulte su documento electiónico en',\n",
       " 'https://fe.esavdoc.com/consulta',\n",
       " 'Emitido por : ZHONG',\n",
       " '@iesaVdoc']"
      ]
     },
     "execution_count": 87,
     "metadata": {},
     "output_type": "execute_result"
    }
   ],
   "source": [
    "data"
   ]
  },
  {
   "cell_type": "code",
   "execution_count": 83,
   "id": "f821cee6",
   "metadata": {},
   "outputs": [
    {
     "data": {
      "text/plain": [
       "{'Número de la boleta/factura': 'F003 N° 00002016',\n",
       " 'RUC o identificación del vendedor': '15262071429',\n",
       " 'Nombre del vendedor': 'ZHONG YUSHU',\n",
       " 'productos': [{'product_name': 'Menu 4 Combinado Poll', 'price': '18.00'},\n",
       "  {'product_name': 'Menu 15 Chancho c/ T amarindo', 'price': '20.00'},\n",
       "  {'product_name': 'Gaseosa 1 It', 'price': '7.00'}]}"
      ]
     },
     "execution_count": 83,
     "metadata": {},
     "output_type": "execute_result"
    }
   ],
   "source": [
    "res_json = generate_groq_query(query=data)\n",
    "res_json"
   ]
  }
 ],
 "metadata": {
  "kernelspec": {
   "display_name": "venv",
   "language": "python",
   "name": "venv"
  },
  "language_info": {
   "codemirror_mode": {
    "name": "ipython",
    "version": 3
   },
   "file_extension": ".py",
   "mimetype": "text/x-python",
   "name": "python",
   "nbconvert_exporter": "python",
   "pygments_lexer": "ipython3",
   "version": "3.13.1"
  }
 },
 "nbformat": 4,
 "nbformat_minor": 5
}
