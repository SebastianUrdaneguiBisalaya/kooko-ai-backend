{
 "cells": [
  {
   "cell_type": "markdown",
   "id": "57704ec3-0a26-4425-8c13-10f2e7440051",
   "metadata": {},
   "source": [
    "### **Optical Character Recognition (OCR) using Gemini API**"
   ]
  },
  {
   "cell_type": "code",
   "execution_count": 7,
   "id": "7cb146aa-2e18-4779-a53f-9894ad8fb292",
   "metadata": {
    "editable": true,
    "slideshow": {
     "slide_type": ""
    },
    "tags": []
   },
   "outputs": [],
   "source": [
    "import pathlib\n",
    "import os\n",
    "import pandas as pd\n",
    "import numpy as np\n",
    "import matplotlib.pyplot as plt\n",
    "import seaborn as sns\n",
    "import json\n",
    "from google import genai\n",
    "from PIL import Image\n",
    "from IPython.display import display\n",
    "import warnings\n",
    "warnings.filterwarnings(\"ignore\")"
   ]
  },
  {
   "cell_type": "code",
   "execution_count": 14,
   "id": "0abe1163-726b-4470-bd73-b9002b09a254",
   "metadata": {},
   "outputs": [],
   "source": [
    "# Functions to create client, upload files and connect with chat to request queries\n",
    "def create_gemini_client():\n",
    "    client = genai.Client(api_key=gemini_api_key)\n",
    "    return client\n",
    "def upload_file(client, path_file):\n",
    "    \"\"\"\n",
    "    That function is important when the user will make a request and attach an image.\n",
    "    \"\"\"\n",
    "    my_file = client.files.upload(file=path_file)\n",
    "    return my_file\n",
    "def generate_content(client, file):\n",
    "    response = client.models.generate_content(\n",
    "        model=\"gemini-2.0-flash\",\n",
    "        contents=[file, \"Caption this image\"]\n",
    "    )\n",
    "    return json.loads(response.text)\n",
    "# I think those 3 functions can be summarized in one\n",
    "def invoice_processing(path_file):\n",
    "    prompt = (\n",
    "        \"\"\"\n",
    "        instrucciones: Extrae la información relevante de la imagen de la boleta o factura\n",
    "        y retorna solo el objeto JSON con la siguiente estructura:\n",
    "        formato_de_salida: {\n",
    "            \"tipo\": \"JSON\",\n",
    "            \"data\": {\n",
    "                \"id_invoice\": string -> Identificación de la factura como número de serie,\n",
    "                \"date\": date -> Formato YYYY-MM-DD de la fecha de Emisión de la boleta y/o factura,\n",
    "                \"time\": time -> Formato HH:MM:SS de la fecha de Emisión de la boleta y/o factura,\n",
    "                \"payment_date\": string -> Formato YYYY-MM-DD de la fecha de pago de la boleta y/o factura,\n",
    "                \"currency_type\": string -> Tipo de moneda utilizada en la boleta y/o factura,\n",
    "                \"payment_method\": string -> Formato de pago utilizado en la boleta y/o factura,\n",
    "                \"seller\": {\n",
    "                    \"id_seller\": string -> Identificación del vendedor como RUC o DNI,\n",
    "                    \"name_seller\": string -> Nombre de la empresa vendedora,\n",
    "                },\n",
    "                \"client\": {\n",
    "                    \"id_client\":string -> Identificación del cliente como RUC o DNI,\n",
    "                    \"name_client\": string -> Nombre del cliente o empresa que compra el producto y/o servicio también conocida como Razón Social,\n",
    "                    \"address\": string -> Dirección del cliente o empresa que compra el producto y/o servicio\n",
    "                },\n",
    "                \"products\": [\n",
    "                    {\n",
    "                        \"product_name\": string -> Nombre del producto,\n",
    "                        \"unit_price\": number -> Precio unitario del producto sin aplicar impuestos,\n",
    "                        \"quantity\": number -> Cantidad que el comprador está comprando del producto,\n",
    "                    }\n",
    "                    // Pueden haber más objetos de productos\n",
    "                ],\n",
    "                \"taxes\": {\n",
    "                    \"recorded_operation\": number -> Monto total de la Operación Gravada de la compra ,\n",
    "                    \"igv\": number -> Monto total de Impuesto General a las Ventas,\n",
    "                    \"isc\" : number -> Monto total del Impuesto Selectivo al Consumo,\n",
    "                    \"unaffected\": number -> Monto total de las Operaciones Inafectas,\n",
    "                    \"exonerated\": number -> Monto total de las Operaciones Exoneradas,\n",
    "                    \"export\": number -> Monto total de las Operaciones de exportación,\n",
    "                    \"free\": number -> Monto total de las Operaciones gratuitas,\n",
    "                    \"discount\": number -> Monto total del descuento,\n",
    "                    \"others_charge\": number -> Monto total de Otros cargos,\n",
    "                    \"others_taxes\": number -> Monto total de Otros Impuestos\n",
    "                }\n",
    "            }\n",
    "        }\n",
    "        consideraciones_adicionales: En caso un dato esté perdido o no se puede encontrar\n",
    "        para asignarlo al formato_de_salida debe colocarse 'null' en el value de la key a la\n",
    "        cual pertenezca. Asegúrate que los valores numéricos como el precio, cantidades,\n",
    "        subtotales, impuestos, totales, operaciones grabadas, operaciones inafectas,\n",
    "        operaciones exoneradas, operaciones de exportación, operación gratuita, total de\n",
    "        descuento, Impuesto Selectivo al Consumo o I.S.C., Impuesto General a la Ventas o I.G.V.,\n",
    "        otros cargos, otros tributos y el importe total. Recuerdad que usualmente el primer nombre e identificación\n",
    "        que aparecen en las boletas y/o facturas pertenecen a la empresa o persona vendedora.\n",
    "        Con respecto a la construcción del array de objetos de productos, asegúrate que no se generen\n",
    "        duplicados en cuanto a los productos, dado que hay veces el nombre es muy largo y ocupa más de una fila.\n",
    "        \"\"\"\n",
    "    )\n",
    "    client = genai.Client(api_key=gemini_api_key)\n",
    "    my_file = client.files.upload(file=path_file)\n",
    "    response = client.models.generate_content(\n",
    "        model=\"gemini-2.0-flash\",\n",
    "        contents=[my_file, prompt]\n",
    "    )\n",
    "    metadata = {\n",
    "        \"input\": {\n",
    "            \"token_text\": response.usage_metadata.prompt_tokens_details[0].token_count,\n",
    "            \"token_image\": response.usage_metadata.prompt_tokens_details[1].token_count,\n",
    "        },\n",
    "        \"output\": {\n",
    "            \"token_text\": response.usage_metadata.candidates_tokens_details[0].token_count,\n",
    "        }\n",
    "    }\n",
    "    try:\n",
    "        response_text = response.text\n",
    "        cleaned_str = response_text.strip('`json\\n').strip('`')\n",
    "        result = json.loads(cleaned_str)\n",
    "        result.update(metadata)\n",
    "        return result\n",
    "    except json.JSONDecodeError as e:\n",
    "        print(f\"Error al decodificar la cadena JSON: {e}\")\n",
    "    return response"
   ]
  },
  {
   "cell_type": "code",
   "execution_count": 15,
   "id": "ff7ac270-cbea-4582-b94c-4df2ec5d37d4",
   "metadata": {},
   "outputs": [],
   "source": [
    "path_file = f\"../files/invoice.jpeg\"\n",
    "response = invoice_processing(path_file=path_file)"
   ]
  },
  {
   "cell_type": "code",
   "execution_count": 16,
   "id": "c3d84336-6aff-41d4-ae34-0d181f8bba0b",
   "metadata": {},
   "outputs": [
    {
     "data": {
      "text/plain": [
       "{'tipo': 'JSON',\n",
       " 'data': {'id_invoice': 'F003 N° 00002016',\n",
       "  'date': '2025-04-13',\n",
       "  'time': '19:53:01',\n",
       "  'payment_date': '2025-04-13',\n",
       "  'currency_type': 'SOLES',\n",
       "  'payment_method': 'Contado',\n",
       "  'seller': {'id_seller': '15262071429', 'name_seller': 'ZHONG YUSHU'},\n",
       "  'client': {'id_client': '20516122723',\n",
       "   'name_client': 'GEOURBI SOCIEDAD COMERCIAL DE RESPONSABILIDAD LIMITADA',\n",
       "   'address': 'CAL EFESTOS NRO.497 - ATE - LIMA - LIMA'},\n",
       "  'products': [{'product_name': 'Menu 4 Combinado Pollo',\n",
       "    'unit_price': 18.0,\n",
       "    'quantity': 1.0},\n",
       "   {'product_name': 'Menu 15 Chancho c/ T amarindo',\n",
       "    'unit_price': 20.0,\n",
       "    'quantity': 1.0},\n",
       "   {'product_name': 'Gaseosa 1 It', 'unit_price': 7.0, 'quantity': 1.0}],\n",
       "  'taxes': {'recorded_operation': 40.91,\n",
       "   'igv': 4.09,\n",
       "   'isc': 0.0,\n",
       "   'unaffected': 0.0,\n",
       "   'exonerated': 0.0,\n",
       "   'export': 0.0,\n",
       "   'free': 0.0,\n",
       "   'discount': 0.0,\n",
       "   'others_charge': 0.0,\n",
       "   'others_taxes': 0.0}},\n",
       " 'input': {'token_text': 2322, 'token_image': 809},\n",
       " 'output': {'token_text': 518}}"
      ]
     },
     "execution_count": 16,
     "metadata": {},
     "output_type": "execute_result"
    }
   ],
   "source": [
    "response"
   ]
  }
 ],
 "metadata": {
  "kernelspec": {
   "display_name": "Python 3 (ipykernel)",
   "language": "python",
   "name": "python3"
  },
  "language_info": {
   "codemirror_mode": {
    "name": "ipython",
    "version": 3
   },
   "file_extension": ".py",
   "mimetype": "text/x-python",
   "name": "python",
   "nbconvert_exporter": "python",
   "pygments_lexer": "ipython3",
   "version": "3.13.1"
  }
 },
 "nbformat": 4,
 "nbformat_minor": 5
}
